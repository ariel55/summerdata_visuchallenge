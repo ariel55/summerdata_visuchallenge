{
 "cells": [
  {
   "cell_type": "markdown",
   "metadata": {},
   "source": [
    "### Funciones utilizadas en notebooks"
   ]
  },
  {
   "cell_type": "code",
   "execution_count": 1,
   "metadata": {},
   "outputs": [],
   "source": [
    "def submission_output(ids, prediction,name):\n",
    "    df_ids = ids\n",
    "    result = df_ids.to_frame()\n",
    "    result[\"Target\"] = prediction\n",
    "    result.drop_duplicates('Opportunity_ID', keep=\"last\", inplace=True)\n",
    "    result.to_csv('../predictions/'+name, index=False)\n",
    "    return result"
   ]
  },
  {
   "cell_type": "code",
   "execution_count": 2,
   "metadata": {},
   "outputs": [],
   "source": [
    "from sklearn.metrics import log_loss\n",
    "def evaluate(model, train_features, train_labels, test_features, test_labels):\n",
    "    predictions = model.predict(test_features)\n",
    "    proba = model.predict_proba(test_features)\n",
    "    score = model.score(test_features,test_labels)\n",
    "    print('Entrenamiento: {:0.4f}%'.format(model.score(train_features, train_labels)*100))\n",
    "    print('Testeo: {:0.4f}%.'.format(score*100))\n",
    "    print (\"log_loss\", log_loss(test_labels, proba))\n",
    "   # print (\"F1 Score: \", f1_score(test_labels, test_features[\"sentimiento\"],average='micro'))"
   ]
  }
 ],
 "metadata": {
  "kernelspec": {
   "display_name": "Python 3",
   "language": "python",
   "name": "python3"
  },
  "language_info": {
   "codemirror_mode": {
    "name": "ipython",
    "version": 3
   },
   "file_extension": ".py",
   "mimetype": "text/x-python",
   "name": "python",
   "nbconvert_exporter": "python",
   "pygments_lexer": "ipython3",
   "version": "3.8.5"
  }
 },
 "nbformat": 4,
 "nbformat_minor": 4
}
